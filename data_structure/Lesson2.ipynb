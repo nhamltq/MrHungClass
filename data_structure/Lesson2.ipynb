{
 "cells": [
  {
   "cell_type": "markdown",
   "id": "f4178eb2",
   "metadata": {},
   "source": [
    "## Đệ quy\n",
    "1. Khái niệm đệ quy\n",
    "* Đệ quy là một function có thể gọi chính nó bên trong. Dùng để giải quết các bài toán có cấu trúc lặp lại.</br>\n",
    "2. Ưu điểm cuả đệ quy:\n",
    "* Kiến trúc dễ hiểu\n",
    "* Code ngắn hơn While for\n",
    "* Có cấu trúc lặp lại tương tự nhau</br>\n",
    "3. Nhược điểm của đệ quy:\n",
    "* Có thể có thời gian tính toán lâu hơn for while. Cái này e không chắc, Có thể mỗi lần gọi trong for while sẽ tốn ít tgian hơn gọi 1 function.....\n",
    "* Có thể gặp lỗi đệ quy quá nhiều\n",
    "* Tốn nhiều bộ nhớ hơn (có thể gấp 2), Vì mỗi vòng đệ quy sẽ stack thêm một ô nhớ. Điều này có thể sinh ra lỗi tràn ô nhớ"
   ]
  },
  {
   "cell_type": "markdown",
   "id": "9455fc31",
   "metadata": {},
   "source": [
    "### Bài 1: Viết function trả tìm giá trị x trong n phần tử được sort"
   ]
  },
  {
   "cell_type": "code",
   "execution_count": 78,
   "id": "23706061",
   "metadata": {},
   "outputs": [],
   "source": [
    "def binary_search(array, find_value):\n",
    "    midlle_index = (len(array)-1)//2\n",
    "    if array[midlle_index] == find_value:\n",
    "        return midlle_index\n",
    "    if midlle_index == 0:\n",
    "        return None\n",
    "    if array[midlle_index] < find_value:\n",
    "        return midlle_index+binary_search(array[midlle_index:],find_value)\n",
    "    else:\n",
    "        return midlle_index - binary_search(array[:midlle_index],find_value)\n",
    "# Không thể care được trường hợp không tồn tại."
   ]
  },
  {
   "cell_type": "code",
   "execution_count": 79,
   "id": "07f95989",
   "metadata": {},
   "outputs": [
    {
     "data": {
      "text/plain": [
       "3"
      ]
     },
     "execution_count": 79,
     "metadata": {},
     "output_type": "execute_result"
    }
   ],
   "source": [
    "binary_search([1,4,6,8,9,12],8)"
   ]
  },
  {
   "cell_type": "code",
   "execution_count": 57,
   "id": "e5cb0b54",
   "metadata": {},
   "outputs": [
    {
     "name": "stdout",
     "output_type": "stream",
     "text": [
      "6\n",
      "3\n",
      "2\n",
      "1\n"
     ]
    },
    {
     "ename": "TypeError",
     "evalue": "unsupported operand type(s) for -: 'int' and 'NoneType'",
     "output_type": "error",
     "traceback": [
      "\u001b[0;31m---------------------------------------------------------------------------\u001b[0m",
      "\u001b[0;31mTypeError\u001b[0m                                 Traceback (most recent call last)",
      "\u001b[0;32m/var/folders/t9/l8d3rwpn1k33_gjtqs732lzc0000gn/T/ipykernel_4305/3806946947.py\u001b[0m in \u001b[0;36m<module>\u001b[0;34m\u001b[0m\n\u001b[0;32m----> 1\u001b[0;31m \u001b[0mbinary_search\u001b[0m\u001b[0;34m(\u001b[0m\u001b[0;34m[\u001b[0m\u001b[0;36m1\u001b[0m\u001b[0;34m,\u001b[0m\u001b[0;36m4\u001b[0m\u001b[0;34m,\u001b[0m\u001b[0;36m6\u001b[0m\u001b[0;34m,\u001b[0m\u001b[0;36m8\u001b[0m\u001b[0;34m,\u001b[0m\u001b[0;36m9\u001b[0m\u001b[0;34m,\u001b[0m\u001b[0;36m12\u001b[0m\u001b[0;34m]\u001b[0m\u001b[0;34m,\u001b[0m\u001b[0;36m5\u001b[0m\u001b[0;34m)\u001b[0m\u001b[0;34m\u001b[0m\u001b[0;34m\u001b[0m\u001b[0m\n\u001b[0m",
      "\u001b[0;32m/var/folders/t9/l8d3rwpn1k33_gjtqs732lzc0000gn/T/ipykernel_4305/116950966.py\u001b[0m in \u001b[0;36mbinary_search\u001b[0;34m(array, find_value)\u001b[0m\n\u001b[1;32m      9\u001b[0m         \u001b[0;32mreturn\u001b[0m \u001b[0mmidlle_index\u001b[0m\u001b[0;34m+\u001b[0m\u001b[0mbinary_search\u001b[0m\u001b[0;34m(\u001b[0m\u001b[0marray\u001b[0m\u001b[0;34m[\u001b[0m\u001b[0mmidlle_index\u001b[0m\u001b[0;34m:\u001b[0m\u001b[0;34m]\u001b[0m\u001b[0;34m,\u001b[0m\u001b[0mfind_value\u001b[0m\u001b[0;34m)\u001b[0m\u001b[0;34m\u001b[0m\u001b[0;34m\u001b[0m\u001b[0m\n\u001b[1;32m     10\u001b[0m     \u001b[0;32melse\u001b[0m\u001b[0;34m:\u001b[0m\u001b[0;34m\u001b[0m\u001b[0;34m\u001b[0m\u001b[0m\n\u001b[0;32m---> 11\u001b[0;31m         \u001b[0;32mreturn\u001b[0m \u001b[0mmidlle_index\u001b[0m \u001b[0;34m-\u001b[0m \u001b[0mbinary_search\u001b[0m\u001b[0;34m(\u001b[0m\u001b[0marray\u001b[0m\u001b[0;34m[\u001b[0m\u001b[0;34m:\u001b[0m\u001b[0mmidlle_index\u001b[0m\u001b[0;34m]\u001b[0m\u001b[0;34m,\u001b[0m\u001b[0mfind_value\u001b[0m\u001b[0;34m)\u001b[0m\u001b[0;34m\u001b[0m\u001b[0;34m\u001b[0m\u001b[0m\n\u001b[0m\u001b[1;32m     12\u001b[0m \u001b[0;31m# Không thể care được trường hợp không tồn tại.\u001b[0m\u001b[0;34m\u001b[0m\u001b[0;34m\u001b[0m\u001b[0m\n",
      "\u001b[0;32m/var/folders/t9/l8d3rwpn1k33_gjtqs732lzc0000gn/T/ipykernel_4305/116950966.py\u001b[0m in \u001b[0;36mbinary_search\u001b[0;34m(array, find_value)\u001b[0m\n\u001b[1;32m      7\u001b[0m         \u001b[0;32mreturn\u001b[0m \u001b[0;32mNone\u001b[0m\u001b[0;34m\u001b[0m\u001b[0;34m\u001b[0m\u001b[0m\n\u001b[1;32m      8\u001b[0m     \u001b[0;32mif\u001b[0m \u001b[0marray\u001b[0m\u001b[0;34m[\u001b[0m\u001b[0mmidlle_index\u001b[0m\u001b[0;34m]\u001b[0m \u001b[0;34m<\u001b[0m \u001b[0mfind_value\u001b[0m\u001b[0;34m:\u001b[0m\u001b[0;34m\u001b[0m\u001b[0;34m\u001b[0m\u001b[0m\n\u001b[0;32m----> 9\u001b[0;31m         \u001b[0;32mreturn\u001b[0m \u001b[0mmidlle_index\u001b[0m\u001b[0;34m+\u001b[0m\u001b[0mbinary_search\u001b[0m\u001b[0;34m(\u001b[0m\u001b[0marray\u001b[0m\u001b[0;34m[\u001b[0m\u001b[0mmidlle_index\u001b[0m\u001b[0;34m:\u001b[0m\u001b[0;34m]\u001b[0m\u001b[0;34m,\u001b[0m\u001b[0mfind_value\u001b[0m\u001b[0;34m)\u001b[0m\u001b[0;34m\u001b[0m\u001b[0;34m\u001b[0m\u001b[0m\n\u001b[0m\u001b[1;32m     10\u001b[0m     \u001b[0;32melse\u001b[0m\u001b[0;34m:\u001b[0m\u001b[0;34m\u001b[0m\u001b[0;34m\u001b[0m\u001b[0m\n\u001b[1;32m     11\u001b[0m         \u001b[0;32mreturn\u001b[0m \u001b[0mmidlle_index\u001b[0m \u001b[0;34m-\u001b[0m \u001b[0mbinary_search\u001b[0m\u001b[0;34m(\u001b[0m\u001b[0marray\u001b[0m\u001b[0;34m[\u001b[0m\u001b[0;34m:\u001b[0m\u001b[0mmidlle_index\u001b[0m\u001b[0;34m]\u001b[0m\u001b[0;34m,\u001b[0m\u001b[0mfind_value\u001b[0m\u001b[0;34m)\u001b[0m\u001b[0;34m\u001b[0m\u001b[0;34m\u001b[0m\u001b[0m\n",
      "\u001b[0;32m/var/folders/t9/l8d3rwpn1k33_gjtqs732lzc0000gn/T/ipykernel_4305/116950966.py\u001b[0m in \u001b[0;36mbinary_search\u001b[0;34m(array, find_value)\u001b[0m\n\u001b[1;32m      9\u001b[0m         \u001b[0;32mreturn\u001b[0m \u001b[0mmidlle_index\u001b[0m\u001b[0;34m+\u001b[0m\u001b[0mbinary_search\u001b[0m\u001b[0;34m(\u001b[0m\u001b[0marray\u001b[0m\u001b[0;34m[\u001b[0m\u001b[0mmidlle_index\u001b[0m\u001b[0;34m:\u001b[0m\u001b[0;34m]\u001b[0m\u001b[0;34m,\u001b[0m\u001b[0mfind_value\u001b[0m\u001b[0;34m)\u001b[0m\u001b[0;34m\u001b[0m\u001b[0;34m\u001b[0m\u001b[0m\n\u001b[1;32m     10\u001b[0m     \u001b[0;32melse\u001b[0m\u001b[0;34m:\u001b[0m\u001b[0;34m\u001b[0m\u001b[0;34m\u001b[0m\u001b[0m\n\u001b[0;32m---> 11\u001b[0;31m         \u001b[0;32mreturn\u001b[0m \u001b[0mmidlle_index\u001b[0m \u001b[0;34m-\u001b[0m \u001b[0mbinary_search\u001b[0m\u001b[0;34m(\u001b[0m\u001b[0marray\u001b[0m\u001b[0;34m[\u001b[0m\u001b[0;34m:\u001b[0m\u001b[0mmidlle_index\u001b[0m\u001b[0;34m]\u001b[0m\u001b[0;34m,\u001b[0m\u001b[0mfind_value\u001b[0m\u001b[0;34m)\u001b[0m\u001b[0;34m\u001b[0m\u001b[0;34m\u001b[0m\u001b[0m\n\u001b[0m\u001b[1;32m     12\u001b[0m \u001b[0;31m# Không thể care được trường hợp không tồn tại.\u001b[0m\u001b[0;34m\u001b[0m\u001b[0;34m\u001b[0m\u001b[0m\n",
      "\u001b[0;31mTypeError\u001b[0m: unsupported operand type(s) for -: 'int' and 'NoneType'"
     ]
    }
   ],
   "source": [
    "binary_search([1,4,6,8,9,12],5)\n",
    "# Không thể dừng đệ quy khi không có giá trị None được trả về"
   ]
  },
  {
   "cell_type": "markdown",
   "id": "e9f664f5",
   "metadata": {},
   "source": [
    "## Fibonaci đệ quy:\n",
    "### Giải thuật đệ quy fibonaci:\n",
    "Giả sử ta cần tính fibonaci của n, theo công thức tính fibonaci ta có fibo(n) = fibo(n-1)+ fibo(n-2)</br>\n",
    "Để tính giá trị cuối cùng của fibo(n) ta cần tính giá trị của fibo(n-1), fibo(n-2).</br>\n",
    "Tính giá trị fibo(n-1) cần tính fibo(n-2), fibo(n-3)</br>\n",
    "Quá trình này lặp lại đến khi về fibo(2) = fibo(1)+ fibo(0) thì kết thúc</br>\n",
    "Đầu tiên đệ quy giống nhu vòng lặp while có khởi tạo giá trị ban đầu. Giá trị ban đầu gồm fibo(0) = 0 , fibo(1) = 1</br>\n",
    "Khi gọi function </br>\n",
    "fibo(n)=fibo(n-1)+fibo(n-2). </br>\n",
    "fibo(n-1) = fibo(n-2)+fibo(n-3)</br>\n",
    "fibo(n-2) = fibo(n-3)+fibo(n-4)</br>\n",
    ".</br>\n",
    ".</br>\n",
    ".</br>\n",
    "fibo(2) = fibo(0)+fibo(1) = 1 kết thúc gọi đệ quy.</br>\n",
    "Khi đó đệ quy là fibo(n) = fibo(n-1)+fibo(n-2)</br>\n"
   ]
  },
  {
   "cell_type": "code",
   "execution_count": 5,
   "id": "84bd1da4",
   "metadata": {},
   "outputs": [],
   "source": [
    "def fibo_with_recursive(n):\n",
    "    if n == 1:\n",
    "        return 1\n",
    "    if n==0:\n",
    "        return 0\n",
    "    return  fibo_with_recursive(n-1)+fibo_with_recursive(n-2)"
   ]
  },
  {
   "cell_type": "code",
   "execution_count": 6,
   "id": "02580f8c",
   "metadata": {},
   "outputs": [
    {
     "data": {
      "text/plain": [
       "21"
      ]
     },
     "execution_count": 6,
     "metadata": {},
     "output_type": "execute_result"
    }
   ],
   "source": [
    "fibo_with_recursive(8)"
   ]
  },
  {
   "cell_type": "markdown",
   "id": "6243129d",
   "metadata": {},
   "source": [
    "## Fibonaci không đệ quy:\n"
   ]
  },
  {
   "cell_type": "code",
   "execution_count": 7,
   "id": "36337862",
   "metadata": {},
   "outputs": [],
   "source": [
    "def fibo_not_recursive(n):\n",
    "    fibo_n_2=1 # fibo(n-2)\n",
    "    fibo_n_1=0 # fibo(n-1)\n",
    "    for i in range(n-1):\n",
    "        intermediate_storage_variable = fibo_n_2\n",
    "        fibo_n_2 = fibo_n_1+fibo_n_2\n",
    "        fibo_n_1 = intermediate_storage_variable\n",
    "    return fibo_n_2"
   ]
  },
  {
   "cell_type": "code",
   "execution_count": 8,
   "id": "20ddfa1f",
   "metadata": {},
   "outputs": [
    {
     "data": {
      "text/plain": [
       "21"
      ]
     },
     "execution_count": 8,
     "metadata": {},
     "output_type": "execute_result"
    }
   ],
   "source": [
    "fibo_not_recursive(8)"
   ]
  },
  {
   "cell_type": "markdown",
   "id": "51e3b484",
   "metadata": {},
   "source": [
    "## Đệ quy giai thừa"
   ]
  },
  {
   "cell_type": "code",
   "execution_count": 9,
   "id": "d4b4d52d",
   "metadata": {},
   "outputs": [],
   "source": [
    "def factorical(n):\n",
    "    if n == 0: \n",
    "        return 1\n",
    "    return n*factorical(n-1)"
   ]
  },
  {
   "cell_type": "code",
   "execution_count": 10,
   "id": "a37e7ad4",
   "metadata": {},
   "outputs": [
    {
     "data": {
      "text/plain": [
       "3628800"
      ]
     },
     "execution_count": 10,
     "metadata": {},
     "output_type": "execute_result"
    }
   ],
   "source": [
    "factorical(10)"
   ]
  },
  {
   "cell_type": "code",
   "execution_count": null,
   "id": "449bf64d",
   "metadata": {},
   "outputs": [],
   "source": []
  }
 ],
 "metadata": {
  "kernelspec": {
   "display_name": "Python 3 (ipykernel)",
   "language": "python",
   "name": "python3"
  },
  "language_info": {
   "codemirror_mode": {
    "name": "ipython",
    "version": 3
   },
   "file_extension": ".py",
   "mimetype": "text/x-python",
   "name": "python",
   "nbconvert_exporter": "python",
   "pygments_lexer": "ipython3",
   "version": "3.9.13"
  }
 },
 "nbformat": 4,
 "nbformat_minor": 5
}
