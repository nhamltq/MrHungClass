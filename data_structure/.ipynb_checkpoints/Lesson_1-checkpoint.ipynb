{
 "cells": [
  {
   "cell_type": "markdown",
   "id": "22847383",
   "metadata": {},
   "source": [
    "# Lesson1 \n",
    "## Assignment 1\n",
    "* Cho một mảng n phần tử đã được sắp xếp hãy tìm vị trí của phần tử có giá trị là x trong mảng. Nếu mảng không tồn tại giá trị x trả về None</br>\n",
    "* Trình bày thế nào là mean, median, mode. Viết function tính toán các giá trị đó, input là một array chưa được sort</br>\n",
    "* Q1, Q2, Q3, IQR là gì? Viết function tính toán các giá trị đó, input là một array chưa được sort\n",
    "* Cho array, trả về các outlier bằng cách sử dụng IQR</br>\n",
    "Requirements:</br>\n",
    "Tạo repo trên github (ml-course)</br>\n",
    "Không sử dụng thư viện</br>\n",
    "Deadline: 21:00 - 06/02/2024</br>"
   ]
  },
  {
   "cell_type": "markdown",
   "id": "8525fef7",
   "metadata": {},
   "source": [
    "### Bài 1: Viết function trả tìm giá trị x trong n phần tử được sort"
   ]
  },
  {
   "cell_type": "code",
   "execution_count": 2,
   "id": "660c52dd",
   "metadata": {},
   "outputs": [
    {
     "name": "stdout",
     "output_type": "stream",
     "text": [
      "<class 'numpy.ndarray'>\n"
     ]
    }
   ],
   "source": [
    "import numpy as np\n",
    "from math import ceil \n",
    "x = np.array([1,22,3,4])\n",
    "print(type(x))\n",
    "def binary_search(X,n):\n",
    "    if not isinstance(x,list) and not isinstance(x, np.ndarray):\n",
    "        raise Exception(\"Input must be list or array\")\n",
    "    if n>x[-1] or n<x[0]: return None\n",
    "    idx1 = ceil((len(x)-1)/2)\n",
    "    array1 = x[:idx1]\n",
    "    array2 = x[idx1:]\n",
    "    while len(array1)>=1:\n",
    "        if n == array1[-1]:\n",
    "            return {\"vaule\":n,\"index\":idx1}\n",
    "        if n > array1[-1]:\n",
    "            idx1+=ceil((len(array2)-1)/2)\n",
    "            array1 = array2[:ceil((len(array2)-1)/2)]      \n",
    "            array2 = array2[ceil((len(array2)-1)/2):]\n",
    "        else:\n",
    "            idx1 -= ceil((len(array1)-1)/2)\n",
    "            array2 = array1[ceil((len(array1)-1)/2):]\n",
    "            array1 = array1[:ceil((len(array1)-1)/2)]\n",
    "    return None"
   ]
  },
  {
   "cell_type": "markdown",
   "id": "037cf3a6",
   "metadata": {},
   "source": [
    "## Sửa\n",
    "* Hàm binary_search nhận x là 1 số n là array. Đặt hàm và biến có ý nghĩa\n",
    "* idx1 nên đặt là midlle_index\n",
    "* ceil nên dùng chia lấy phần nguyên\n",
    "* Khi làm index nên bắt đầu từ 0\n",
    "* Code lại bằng đệ quy\n",
    "* Tìm hiểu đệ quy và viết lại đệ quy fibonaci \n",
    "* Assignement tính fibonaci Tìm hiểu fibonaci của một số. Dùng không đệ quy và đệ quy để tính. \n",
    "* fibonaci(5) = fibo(4)+fibo(3) \n",
    "            = fibo(3)+fibo(2) + fibo(2)+fibo(1)\n",
    "            = fibo(2)+fibo(1) +fibo(1)+fibo(0)+1\n",
    "            = fibo(1)+fibo(0)+fibo(1) + fibo(1)\n"
   ]
  },
  {
   "cell_type": "code",
   "execution_count": 8,
   "id": "666f697c",
   "metadata": {},
   "outputs": [
    {
     "name": "stdout",
     "output_type": "stream",
     "text": [
      "{'vaule': 5, 'index': 3}\n"
     ]
    }
   ],
   "source": [
    "print(find_x([1,3,5,6,8,10],5))"
   ]
  },
  {
   "cell_type": "markdown",
   "id": "fb820abc",
   "metadata": {},
   "source": [
    "### Sorted, min Function"
   ]
  },
  {
   "cell_type": "code",
   "execution_count": 9,
   "id": "a65f8749",
   "metadata": {},
   "outputs": [],
   "source": [
    "# find min function\n",
    "def min_function(array):\n",
    "    min_value = array[0]\n",
    "    idx_min = 0\n",
    "    for idx,value in enumerate(array):\n",
    "        if value< min_value: \n",
    "            min_value = value\n",
    "            idx_min = idx\n",
    "    return min_value,idx_min\n",
    "# sorted function\n",
    "def sorted(array):\n",
    "    new_array= array\n",
    "    sorted_array = []\n",
    "    for i in range(len(new_array)):\n",
    "        at = new_array[i:]\n",
    "        min_value,idx_min = min_function(at)\n",
    "        idx_min+=i\n",
    "        new_array[i]=min_value\n",
    "        new_array[idx_min]=at[0]\n",
    "    return new_array\n",
    "    \n",
    "        "
   ]
  },
  {
   "cell_type": "markdown",
   "id": "93dae50e",
   "metadata": {},
   "source": [
    "* Tìm hiểu các thuật toán sort bubble sort, selection sort, insertion sort, merge sort, quick sort. implement các thuật toán đó bằng python không sử dụng thư viện\n",
    "* Tìm hiểu cơ chế sorting của sorted trong python nó làm như thế nào.\n",
    "* Không đặt tên hàm tên biến trùng với key word của python"
   ]
  },
  {
   "cell_type": "code",
   "execution_count": 16,
   "id": "edf0ee4c",
   "metadata": {},
   "outputs": [],
   "source": [
    "array = sorted([5,4,3,1,5,6,7])"
   ]
  },
  {
   "cell_type": "code",
   "execution_count": 17,
   "id": "f1efdd7c",
   "metadata": {},
   "outputs": [
    {
     "data": {
      "text/plain": [
       "[1, 3, 4, 5, 5, 6, 7]"
      ]
     },
     "execution_count": 17,
     "metadata": {},
     "output_type": "execute_result"
    }
   ],
   "source": [
    "array"
   ]
  },
  {
   "cell_type": "markdown",
   "id": "87e6ce1e",
   "metadata": {},
   "source": [
    "## Bài 2\n",
    "* Mean là giá trị trung bình của một chuỗi số.\n",
    "* Median là giá trị ở vị trí giữa của chuỗi số đã được sorted nếu lẻ số. Và là giá trị trung bình của 2 số ở giữa chuỗi số nếu chưa đc sorted\n",
    "* Mode là số có tần số xuất hiện nhiều nhất trong chuỗi số"
   ]
  },
  {
   "cell_type": "code",
   "execution_count": 210,
   "id": "796dc296",
   "metadata": {},
   "outputs": [],
   "source": [
    "def describe_array(X,mode = \"mean\"):\n",
    "    result = None\n",
    "    if mode == \"mean\":\n",
    "        result = sum(X)/len(X)\n",
    "        return result\n",
    "    if mode ==\"median\":\n",
    "        X = sorted(X)\n",
    "        if len(X) % 2 == 0:\n",
    "            median = (X[round(len(X)/2)]+X[round(len(X)/2+1)])/2\n",
    "        else:\n",
    "            median = X[len(X)/2]\n",
    "        return median\n",
    "    if mode == \"mode\":\n",
    "        X = sorted(X)\n",
    "        list_val = set(X)\n",
    "        if len(X)==len(list_val): \n",
    "            return None #khong co mode\n",
    "        max_freq = 0\n",
    "        mode = None\n",
    "        for i in list_val:\n",
    "            freq = 0\n",
    "            for j in X:\n",
    "                if j==i:\n",
    "                    freq+=1\n",
    "            if freq>max_freq:\n",
    "                max_freq = freq\n",
    "                mode = i\n",
    "        return mode\n",
    "    return None\n",
    "                "
   ]
  },
  {
   "cell_type": "code",
   "execution_count": 29,
   "id": "c5a67f85",
   "metadata": {},
   "outputs": [],
   "source": [
    "def mode(array):\n",
    "    dict_frequency = {}\n",
    "    freq = 0\n",
    "    mode_value = array[0]\n",
    "    for value in array:\n",
    "        if value not in dict_frequency:\n",
    "            dict_frequency[value] = 1\n",
    "        else: \n",
    "            dict_frequency[value] += 1\n",
    "        if dict_frequency[value] > freq:\n",
    "            freq = value\n",
    "    return freq\n",
    "#     mode = 0\n",
    "#     max_value = 0\n",
    "#     if len(dict_frequency) == array:\n",
    "#         return \n",
    "#     for key,valid in dict_frequency.items():\n",
    "#         if max_value< valid:\n",
    "#             mode = key\n",
    "#    return mode"
   ]
  },
  {
   "cell_type": "code",
   "execution_count": 31,
   "id": "3b5b975f",
   "metadata": {},
   "outputs": [
    {
     "data": {
      "text/plain": [
       "1"
      ]
     },
     "execution_count": 31,
     "metadata": {},
     "output_type": "execute_result"
    }
   ],
   "source": [
    "mode([1,2,3,4,5,6,7,8])"
   ]
  },
  {
   "cell_type": "code",
   "execution_count": 213,
   "id": "086507fd",
   "metadata": {},
   "outputs": [
    {
     "name": "stdout",
     "output_type": "stream",
     "text": [
      "mean:  3.75\n",
      "median:  4.0\n",
      "mode:  4\n"
     ]
    }
   ],
   "source": [
    "print(\"mean: \",describe_array([1,2,4,6,4,6,4,3],mode = 'mean'))\n",
    "print(\"median: \",describe_array([1,2,4,6,4,6,4,3],mode = 'median'))\n",
    "print(\"mode: \",describe_array([1,2,4,6,4,6,4,3],mode = 'mode'))"
   ]
  },
  {
   "cell_type": "markdown",
   "id": "4cea77bb",
   "metadata": {},
   "source": [
    "## Bài 3:\n",
    "* Q1,Q2, Q3 là tứ phân vị. Chúng dùng để mô tả thô sơ về dữ liệu, phân nhóm, xác định outlier và vẽ bbiểu đồ boxplot"
   ]
  },
  {
   "cell_type": "code",
   "execution_count": 64,
   "id": "9ee7e969",
   "metadata": {},
   "outputs": [],
   "source": [
    "from math import ceil\n",
    "from math import floor\n",
    "def quantle(X):\n",
    "    X =sorted(X)\n",
    "    # tìm Q1\n",
    "    idx_q1 = (len(X)+1)/4-1\n",
    "    idx_int_q1 = int(idx_q1)\n",
    "    Q1 = X[idx_int_q1] if idx_q1==int(idx_q1) else (X[floor(idx_q1)]+X[ceil(idx_q1)])/2\n",
    "    # tìm Q2\n",
    "    idx_q2 = (2*len(X)+1)/4-1\n",
    "    idx_int_q2 = int(idx_q2)\n",
    "    Q2 = X[idx_int_q2] if idx_q2==int(idx_q2) else (X[floor(idx_q2)]+X[ceil(idx_q2)])/2\n",
    "    # tìm Q2\n",
    "    idx_q3 = (3*len(X)+1)/4-1\n",
    "    idx_int_q3 = int(idx_q3)\n",
    "    Q3 = X[idx_int_q3] if idx_q3==int(idx_q3) else (X[floor(idx_q3)]+X[ceil(idx_q3)])/2\n",
    "    return Q1,Q2,Q3"
   ]
  },
  {
   "cell_type": "markdown",
   "id": "ddc9ed5d",
   "metadata": {},
   "source": [
    "## Bài 4"
   ]
  },
  {
   "cell_type": "code",
   "execution_count": 68,
   "id": "cee2ecc4",
   "metadata": {},
   "outputs": [],
   "source": [
    "def outlier(array):\n",
    "    Q1,Q2,Q3 = quantle(array)\n",
    "    range_ = 1.5*(Q3-Q1)\n",
    "    upper = Q1-range_\n",
    "    lower = Q3+range_\n",
    "    out_lier = [val for val in array if val < upper or val > lower]\n",
    "    return out_lier"
   ]
  },
  {
   "cell_type": "code",
   "execution_count": null,
   "id": "73a9f92b",
   "metadata": {},
   "outputs": [],
   "source": []
  },
  {
   "cell_type": "code",
   "execution_count": 74,
   "id": "555e50f9",
   "metadata": {},
   "outputs": [
    {
     "name": "stdout",
     "output_type": "stream",
     "text": [
      "test 1 -  [-10]\n",
      "test 2 -  []\n",
      "test 3 -  []\n",
      "test 4 -  [20]\n"
     ]
    }
   ],
   "source": [
    "print(\"test 1 - \",outlier([1,2,3,4,5,6,6,5,3,2,2,-10]))\n",
    "print(\"test 2 - \",outlier([1,2,3,4,5,6,6,5,3,2,2]))\n",
    "print(\"test 3 - \",outlier([1,2,3,4,5,6,6,5,3,2,2,10]))\n",
    "print(\"test 4 - \",outlier([1,2,3,4,5,6,6,5,3,2,2,20]))"
   ]
  }
 ],
 "metadata": {
  "kernelspec": {
   "display_name": "Python 3 (ipykernel)",
   "language": "python",
   "name": "python3"
  },
  "language_info": {
   "codemirror_mode": {
    "name": "ipython",
    "version": 3
   },
   "file_extension": ".py",
   "mimetype": "text/x-python",
   "name": "python",
   "nbconvert_exporter": "python",
   "pygments_lexer": "ipython3",
   "version": "3.9.13"
  }
 },
 "nbformat": 4,
 "nbformat_minor": 5
}
