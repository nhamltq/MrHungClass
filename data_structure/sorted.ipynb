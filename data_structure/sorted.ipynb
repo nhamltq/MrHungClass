{
 "cells": [
  {
   "cell_type": "markdown",
   "id": "8765fbf6",
   "metadata": {},
   "source": [
    "# Thuật toán sorted"
   ]
  },
  {
   "cell_type": "markdown",
   "id": "4cdc033b",
   "metadata": {},
   "source": [
    "## bubble sorted\n",
    "Ý tưởng, đổi chỗ từng đôi một các giá trị trong chuỗi\n",
    "Độ phức tạp tính toán o(n^2)"
   ]
  },
  {
   "cell_type": "code",
   "execution_count": 245,
   "id": "fc5d1c37",
   "metadata": {},
   "outputs": [],
   "source": [
    "def bubble_sorted(array):\n",
    "    for i in range(len(array)):\n",
    "        for j in range(0,len(array)):\n",
    "            if array[i]<array[j]:\n",
    "                array[i],array[j] = array[j],array[i]\n",
    "    return array"
   ]
  },
  {
   "cell_type": "code",
   "execution_count": 246,
   "id": "2d95e875",
   "metadata": {},
   "outputs": [
    {
     "data": {
      "text/plain": [
       "[1, 3, 5, 6, 7, 8]"
      ]
     },
     "execution_count": 246,
     "metadata": {},
     "output_type": "execute_result"
    }
   ],
   "source": [
    "bubble_sorted([1,8,5,7,3,6])"
   ]
  },
  {
   "cell_type": "markdown",
   "id": "cdc99be6",
   "metadata": {},
   "source": [
    "## Selection sort\n",
    "Ý tưởng: tìm min rồi cho lên đầu chuỗi\n",
    "Độ phức tạp tính toán o(n^2)"
   ]
  },
  {
   "cell_type": "code",
   "execution_count": 247,
   "id": "c909f316",
   "metadata": {
    "code_folding": []
   },
   "outputs": [],
   "source": [
    "# find min function\n",
    "def min_function(array):\n",
    "    min_value = array[0]\n",
    "    idx_min = 0\n",
    "    for idx,value in enumerate(array):\n",
    "        if value< min_value: \n",
    "            min_value = value\n",
    "            idx_min = idx\n",
    "    return min_value,idx_min\n",
    "\n",
    "def selection_sorted(array):\n",
    "    new_array= array\n",
    "    sorted_array = []\n",
    "    for i in range(len(new_array)):\n",
    "        compare_array = new_array[i:]\n",
    "        min_value,idx_min = min_function(compare_array)\n",
    "        idx_min+=i\n",
    "        new_array[i]=min_value\n",
    "        new_array[idx_min]=compare_array[0]\n",
    "    return new_array"
   ]
  },
  {
   "cell_type": "code",
   "execution_count": 248,
   "id": "caa5a51a",
   "metadata": {},
   "outputs": [
    {
     "data": {
      "text/plain": [
       "[1, 2, 3, 3, 4, 5, 5, 6]"
      ]
     },
     "execution_count": 248,
     "metadata": {},
     "output_type": "execute_result"
    }
   ],
   "source": [
    "selection_sorted([1,5,3,6,3,4,2,5])"
   ]
  },
  {
   "cell_type": "markdown",
   "id": "8d3868f0",
   "metadata": {
    "code_folding": []
   },
   "source": [
    "## Insert sorted\n",
    "Ý tưởng, tìm vị trí lớn hơn bên trái nhỏ hơn bên phải rồi cho vào giữa\n",
    "độ phức tạp tính toán o(n**2)"
   ]
  },
  {
   "cell_type": "code",
   "execution_count": 249,
   "id": "434ad6dd",
   "metadata": {},
   "outputs": [],
   "source": [
    "def insert_sort(array):\n",
    "    for i in range(0,len(array)):\n",
    "        for j in range(i,len(array)):\n",
    "            if array[i]>array[j]:\n",
    "                array = array[:i]+[array[j]]+array[i:j]+array[j+1:]\n",
    "    return array"
   ]
  },
  {
   "cell_type": "markdown",
   "id": "c0e1a716",
   "metadata": {},
   "source": [
    "## Merge sort\n",
    "Ý tưởng: Chia dãy ra làm 2 rồi sắp xếp hai dãy đó, so sánh từng giá trị của dãy bên này với dãy bên kia. Giá trị nào lớn hơn sẽ lưu vào dãy giá trị bên trái. Thuật toán có tính lặp lại nên ta nên viết theo phương pháp đệ quy.\n",
    "Độ phức tạp của thuật toán là o(n)"
   ]
  },
  {
   "cell_type": "code",
   "execution_count": 284,
   "id": "ed46e134",
   "metadata": {},
   "outputs": [],
   "source": [
    "def merge_sort(array):\n",
    "    if len(array) > 1:\n",
    "        midle = len(array) // 2\n",
    "        left_array = array[:midle]\n",
    "        right_array = array[midle:]\n",
    "        left_array=merge_sort(left_array)\n",
    "        right_array=merge_sort(right_array)\n",
    "        i = j = k = 0\n",
    "        while i < len(left_array) and j < len(right_array):\n",
    "            if left_array[i] < right_array[j]:\n",
    "                array[k] = left_array[i]\n",
    "                i += 1\n",
    "            else:\n",
    "                array[k] = right_array[j]\n",
    "                j += 1\n",
    "            k += 1\n",
    "        if i < len(left_array):\n",
    "            array[k:] = left_array[i:]\n",
    "        if j < len(right_array):\n",
    "            array[k] = right_array[j]\n",
    "    return array"
   ]
  },
  {
   "cell_type": "code",
   "execution_count": 285,
   "id": "73721745",
   "metadata": {},
   "outputs": [
    {
     "data": {
      "text/plain": [
       "[1, 3, 4, 5, 5, 5, 9, 23, 29, 32, 234]"
      ]
     },
     "execution_count": 285,
     "metadata": {},
     "output_type": "execute_result"
    }
   ],
   "source": [
    "merge_sort([1,5,3,5,29,9,4,32,23,5,234])"
   ]
  },
  {
   "cell_type": "code",
   "execution_count": null,
   "id": "86e61631",
   "metadata": {},
   "outputs": [],
   "source": []
  },
  {
   "cell_type": "code",
   "execution_count": null,
   "id": "7ae29558",
   "metadata": {},
   "outputs": [],
   "source": []
  }
 ],
 "metadata": {
  "kernelspec": {
   "display_name": "Python 3 (ipykernel)",
   "language": "python",
   "name": "python3"
  },
  "language_info": {
   "codemirror_mode": {
    "name": "ipython",
    "version": 3
   },
   "file_extension": ".py",
   "mimetype": "text/x-python",
   "name": "python",
   "nbconvert_exporter": "python",
   "pygments_lexer": "ipython3",
   "version": "3.9.13"
  }
 },
 "nbformat": 4,
 "nbformat_minor": 5
}
